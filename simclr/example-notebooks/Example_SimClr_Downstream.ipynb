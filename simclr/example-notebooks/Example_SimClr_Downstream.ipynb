{
  "nbformat": 4,
  "nbformat_minor": 0,
  "metadata": {
    "colab": {
      "name": "Example-SimClr-Downstream.ipynb",
      "provenance": [],
      "collapsed_sections": []
    },
    "kernelspec": {
      "name": "python3",
      "display_name": "Python 3"
    },
    "language_info": {
      "name": "python"
    }
  },
  "cells": [
    {
      "cell_type": "code",
      "execution_count": null,
      "metadata": {
        "id": "BmXy8OgpaIQv"
      },
      "outputs": [],
      "source": [
        "from simclr import SimClr\n",
        "from ntxent import nt_xent_loss\n",
        "from ntxentgit import SimCLR_Loss\n",
        "from augment import TransformsSimCLR\n",
        "from utils import *\n",
        "from LARS import LARS\n",
        "from downstream import DownStream\n",
        "from dataloader import *\n",
        "from ResNetCifar import ResNetCifar\n",
        "from utilsInstance import *\n",
        "from NCEAverage import *\n",
        "from NCECriterion import *\n",
        "from alias_multinomial import *\n",
        "from Cifar10Instance import *\n",
        "from downstreamnew import DownStreamNew"
      ]
    },
    {
      "cell_type": "code",
      "source": [
        "import torch\n",
        "import torchvision\n",
        "import torchvision.transforms as transforms\n",
        "import numpy as np\n",
        "import pickle"
      ],
      "metadata": {
        "id": "bnMLvb4YaPa4"
      },
      "execution_count": null,
      "outputs": []
    },
    {
      "cell_type": "code",
      "source": [
        "shuffle = True\n",
        "batchSize = 256\n",
        "validation_split = 0.1\n",
        "projected_dimensionality = 64\n",
        "train_loader_ds, val_loader_ds = train_loader_dstream(\"CIFAR10\",batchSize,validation_split,shuffle) \n",
        "model = SimClr('resnet50',projected_dimensionality).cuda()\n",
        "model.load_state_dict(torch.load(PATH)) #add your pretrained model weight path"
      ],
      "metadata": {
        "id": "Ua2e-uOWaVM1"
      },
      "execution_count": null,
      "outputs": []
    },
    {
      "cell_type": "code",
      "source": [
        "classNumber = 10 #cifar10\n",
        "model_ds = DownStreamNew(model.encoder,model.projector.layers[:2],2048,classNumber).cuda()\n",
        "optimizer = torch.optim.Adam(model_ds.parameters(), lr=3e-4) #set optimizer\n",
        "criterion = torch.nn.CrossEntropyLoss() #set loss\n",
        "epochs = 100\n",
        "model_ds,train_loss_list,train_acc_list,val_loss_list,val_acc_list = train_ds(train_loader_ds, val_loader_ds, model_ds, criterion, opt #train for downstream"
      ],
      "metadata": {
        "id": "nUvPCiXaaz7J"
      },
      "execution_count": null,
      "outputs": []
    },
    {
      "cell_type": "code",
      "source": [
        "test_loader = test_loader(\"CIFAR10\",128) # test loader\n",
        "test_ds(model_ds,test_loader) #get test acuracy"
      ],
      "metadata": {
        "id": "ZrujNPX3bFai"
      },
      "execution_count": null,
      "outputs": []
    }
  ]
}