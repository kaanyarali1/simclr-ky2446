{
  "nbformat": 4,
  "nbformat_minor": 0,
  "metadata": {
    "colab": {
      "name": "Example-SimClr.ipynb",
      "provenance": [],
      "collapsed_sections": []
    },
    "kernelspec": {
      "name": "python3",
      "display_name": "Python 3"
    },
    "language_info": {
      "name": "python"
    }
  },
  "cells": [
    {
      "cell_type": "code",
      "execution_count": null,
      "metadata": {
        "id": "TZiWLq39bUeR"
      },
      "outputs": [],
      "source": [
        "from simclrpy import SimClr\n",
        "from ntxent import nt_xent_loss\n",
        "from ntxentgit import SimCLR_Loss\n",
        "from augment import TransformsSimCLR\n",
        "from utils import *\n",
        "from LARS import LARS\n",
        "from downstream import DownStream\n",
        "from dataloader import *"
      ]
    },
    {
      "cell_type": "code",
      "source": [
        "import torch\n",
        "import torchvision\n",
        "import torchvision.transforms as transforms\n",
        "import numpy as np\n",
        "import matplotlib.pyplot as plt\n",
        "import pickle"
      ],
      "metadata": {
        "id": "RMmX5LIjbhkE"
      },
      "execution_count": null,
      "outputs": []
    },
    {
      "cell_type": "code",
      "source": [
        "batchSize = 256\n",
        "train_loader_simclr = train_loader_simclr(\"CIFAR10\",256)"
      ],
      "metadata": {
        "id": "wtztjY2TboB2"
      },
      "execution_count": null,
      "outputs": []
    },
    {
      "cell_type": "code",
      "source": [
        "proj_dim = 64\n",
        "model = SimClr('resnet50',proj_dim).cuda()\n",
        "temperature = 0.5\n",
        "criterion = SimCLR_Loss(batchSize,temperature)\n",
        "optimizer = \"LARS\"\n",
        "epochs = 100\n",
        "model, train_loss = train_simclr(train_loader_simclr,model,criterion,optimizer,epochs,batchSize,False) # You can save the model if you pass True in the function call. Then you also need pass the path for model saving."
      ],
      "metadata": {
        "id": "lsVlRo6ibrxJ"
      },
      "execution_count": null,
      "outputs": []
    }
  ]
}